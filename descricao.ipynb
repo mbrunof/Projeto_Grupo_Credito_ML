{
 "cells": [
  {
   "cell_type": "markdown",
   "id": "d39df173",
   "metadata": {},
   "source": [
    "# Turma #867 - Projeto Machine Learning I"
   ]
  },
  {
   "cell_type": "markdown",
   "id": "d8c59380",
   "metadata": {},
   "source": [
    "## Deadline: 11/set/2022"
   ]
  },
  {
   "cell_type": "markdown",
   "id": "43f2c0f5",
   "metadata": {},
   "source": [
    "## Entrega: Class (arquivo)"
   ]
  },
  {
   "cell_type": "markdown",
   "id": "690564fe",
   "metadata": {},
   "source": [
    "## Contextualização\n",
    "A PyCoders Ltda., cada vez mais especializada no mundo da Inteligência Artificial e Ciência de Dados, foi procurada por uma fintech para desenvolver um projeto de concessão de crédito para imóveis. Nesse projeto, espera-se a criação de valor que discrimine ao máximo os bons pagadores dos maus pagadores. Para isso, foi disponibilizada uma base de dados com milhares de casos de empréstimos do passado com diversas características dos clientes. Devem ser entregues um modelo. Por questões contratuais, o pagamento será realizado baseado no desempenho (ROC AUC) do modelo ao longo do tempo."
   ]
  },
  {
   "cell_type": "markdown",
   "id": "fb0b303f",
   "metadata": {},
   "source": [
    "## Highlights\n",
    "\n",
    "- A base desse projeto será usada para os projetos dos módulos seguintes\n",
    "- Em um primeiro momento, vamos utilizar apenas a tabela `application_train.csv` e `application_test_student.csv`\n",
    "- Não é necessário, nesse primeiro momento, ter foco em ganhar performance (melhorar roc auc). Isso será feito com o tempo. Vale focar no entendimento da base, do fluxo e da metodologia de avaliação e comparação de modelo."
   ]
  },
  {
   "cell_type": "markdown",
   "id": "21d228ba",
   "metadata": {},
   "source": [
    "## Base de Dados\n",
    "Serão utilizadas bases de dados com informações cadastrais, histórico de crédito e balanços financeiros de diversos clientes. O conjunto de dados está dividido em treino e teste, todos no formato csv. Toda a modelagem, validação e avaliação deve ser feita em cima do conjunto de treino, subdividindo tal base como a squad achar melhor. Existe também os das variáveis explicativas, para ajudar no desenvolvimento do projeto. Serão necessários diversos cruzamentos e vocês estão livres para usar os dados da maneira que acharem mais conveniente.\n",
    "\n",
    "[Baixar](https://drive.google.com/file/d/17fyteuN2MdGdbP5_Xq_sySN_yH91vTup/view?usp=sharing)"
   ]
  },
  {
   "cell_type": "markdown",
   "id": "aa83f46e",
   "metadata": {},
   "source": [
    "## Equipes\n",
    "\n",
    "- Equipe 1\n",
    "    - Marcio Henrique dos Santos Silveira\n",
    "    - Frederico Fernandes Soares\n",
    "    - Bruno Baring\n",
    "    - Marilia Fernandes Costa\n",
    "    - Luísa Callegari de Oliveira\n",
    "- Equipe 2\n",
    "    - Marília Dal Mollin da Rosa\n",
    "    - Karina Baumgarten\n",
    "    - Lorena Bernardo Vianna\n",
    "    - Magnovaldo Carneiro\n",
    "    - Angelica Valiati Maran Derenevick\n",
    "- Equipe 3\n",
    "    - Mariana de Cassia Soares Nunes Cunha\n",
    "    - Deborah Soares Cardoso\n",
    "    - Luiz Henrique Simioni Machado\n",
    "    - Eden de Oliveira Santana\n",
    "    - Luiz Gabriel de Souza\n",
    "- Equipe 4\n",
    "    - Richard Raphael Banak\n",
    "    - Helen Cristina de Acypreste Rocha\n",
    "    - Adriana Roberta Miceli de Souza\n",
    "    - Debora Kassem Buturi\n",
    "    - Marcus Bruno Paixão Fontes\n",
    "- Equipe 5\n",
    "    - Virgínia de Fernandes Souza\n",
    "    - Marlon Martins Cunha\n",
    "    - Amanda Barbosa Morais\n",
    "    - Pablo Ernesto Vigneaux Wilton\n",
    "    - Amanda Costa Spolti"
   ]
  },
  {
   "cell_type": "markdown",
   "id": "73de8b11",
   "metadata": {},
   "source": [
    "## Entregáveis"
   ]
  },
  {
   "cell_type": "markdown",
   "id": "673f5399",
   "metadata": {},
   "source": [
    "- Crie modelos usando Árvore de Decisão, Random Forest, KNN e Naive Bayes para identificar se uma pessoa será adimplente ou inadimplente. \n",
    "- Faça 1 notebook para cada modelo, realizando os pré-processamentos necessários para cada modelo. Descreva brevemente o modelo e os pré-processamentos (não mais que três frases para cada).\n",
    "- Utilize a metodologia de avaliação de sua preferência, mas seu modelo será avaliado em um conjunto apartado (`application_test_student.csv`).\n",
    "- Compare os resultados dos modelos. E lembre-se: os modelos precisam ser comparáveis, então precisam usar a mesma base de treino e de teste.\n",
    "- Para cade modelo, faça a previsão em cima do `application_test_student.csv` e deixe um arquivo .csv com a previsão marcada, conforme exemplo.\n",
    "- Para marcar a previsão, use a probabilidade do evento (sem binarizar)."
   ]
  }
 ],
 "metadata": {
  "kernelspec": {
   "display_name": "Python 3 (ipykernel)",
   "language": "python",
   "name": "python3"
  },
  "language_info": {
   "codemirror_mode": {
    "name": "ipython",
    "version": 3
   },
   "file_extension": ".py",
   "mimetype": "text/x-python",
   "name": "python",
   "nbconvert_exporter": "python",
   "pygments_lexer": "ipython3",
   "version": "3.9.7"
  }
 },
 "nbformat": 4,
 "nbformat_minor": 5
}
