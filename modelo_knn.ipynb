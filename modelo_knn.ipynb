{
 "cells": [
  {
   "cell_type": "markdown",
   "id": "72612a4e",
   "metadata": {},
   "source": [
    "# Turma #867 - Projeto Machine Learning I\n",
    "\n",
    "## Equipe XX\n",
    "\n",
    "### Modelo KNN"
   ]
  },
  {
   "cell_type": "code",
   "execution_count": null,
   "id": "e9f6b65b",
   "metadata": {},
   "outputs": [],
   "source": []
  }
 ],
 "metadata": {
  "kernelspec": {
   "display_name": "Python 3 (ipykernel)",
   "language": "python",
   "name": "python3"
  },
  "language_info": {
   "codemirror_mode": {
    "name": "ipython",
    "version": 3
   },
   "file_extension": ".py",
   "mimetype": "text/x-python",
   "name": "python",
   "nbconvert_exporter": "python",
   "pygments_lexer": "ipython3",
   "version": "3.9.7"
  }
 },
 "nbformat": 4,
 "nbformat_minor": 5
}
