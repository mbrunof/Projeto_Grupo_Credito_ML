{
 "cells": [
  {
   "cell_type": "markdown",
   "id": "bf60b761",
   "metadata": {},
   "source": [
    "# Turma #867   -   Projeto Machine Learning II (parte II - Pipelines)\n",
    "#### Equipe 4:\n",
    "- Adriana Roberta Miceli de Souza <br/>\n",
    "- Debora Kassem Buturi <br/>\n",
    "- Helen Cristina de Acypreste Rocha <br/> \n",
    "- Marcus Fontes <br/>\n",
    "- Richard Raphael Banak <br/>"
   ]
  },
  {
   "cell_type": "markdown",
   "id": "73de8b11",
   "metadata": {},
   "source": [
    "## Entregáveis"
   ]
  },
  {
   "cell_type": "markdown",
   "id": "673f5399",
   "metadata": {},
   "source": [
    "- Dois notebooks: (i) com a investigação e comparações feitas; (ii) com o fluxo limpo do modelo escolhido.\n",
    "- Crie pipeline para o modelo.\n",
    "- Realize processo de otimização dos hiperparâmetros.\n",
    "- Utilize pelo menos uma variável categórica e pelo menos uma variável numérica.\n",
    "- Para garantir robustez, adicione uma camada de imputação de missing para todas as features. Reflita sobre qual é a melhor estratégia para cada uma das variáveis explicativas.\n",
    "- Não foque mais em utilizar apenas 5 variáveis, vamos abrir os horizontes e buscar outras features que podem ser úteis. Vale salientar que a depender do modelo, não adianta simplesmente colocar todas porque isso pode gerar problemas de overfitting, de underfitting ou de eficiência computacional, então será necessário fazer algum tipo de seleção.\n",
    "- Apenas um modelo será entregue. Faça a escolha baseando-se em performance, mas levando em consideração custo computacional. Descreva o processo de decisão e argumente a favor do modelo - deve estar dentro do fluxo limpo, no notebook modelo escolhido, no início.\n",
    "- Para marcar a previsão, use a probabilidade do evento (sem binarizar).\n",
    "- **Meta em bater pelo menos 0.70 de AUC. Se não conseguir, não há problema, mas falar antecipadamente com Rychard/Bruno.**"
   ]
  },
  {
   "cell_type": "markdown",
   "id": "cb4ed9b0",
   "metadata": {},
   "source": [
    "## Modelo escolhido e argumentos"
   ]
  },
  {
   "cell_type": "markdown",
   "id": "9ebe8aab",
   "metadata": {},
   "source": [
    "- Foi utilizada a técnica de XGBOOST por ter os melhores resultados em termos ROC AUC. Apenas com a seleção de variáveis foi possível obter um ROC AUC de 70% (na amostra de teste), antes mesmo de qualquer otimização de hiperparâmetros, sem um custo computacional muito superior aos outros modelos. Foi possível paralelizar a execução desse modelo através do parâmetro n_jobs que, neste caso concreto, performou melhor se configurado com o valor 16, frente às outras tentativas que fizemos (2 a 64). \n",
    "<br/> \n",
    "\n",
    "- Durante os testes com diversos conjuntos de variáveis foi possível observar que esta modelagem é bastante \"sensível\" a overfitting, especialmente com excesso de variáveis. Para contornar o problema precisariamos de algum tipo de regularização e de um conjunto menor de variáveis explicativas, além de testar os parâmetros específicos como lambda, alpha e eta/learning_rate. \n",
    "<br/>\n",
    "\n",
    "- O tempo de processamento do gridsearch com o xgboost durante a otimização dos hiperparâmetros, mesmo com o uso de n_jobs = 16, mostrou-se bastante grande quando a combinação de parâmetros ultrapassa uma certa quantidade de elementos (questão exponencial do gridsearch).\n",
    "<br/>\n",
    "- O modelo final contou com 25 variáveis que foram escolhidas através de critérios de exclusão como % de missing do campo (>= 10%), variáveis com domínio praticamente único (+ que 99% de concentração), além de anáise manual/visual da correlação das variáveis explicativas. Também foi utilizada a ferramenta SelectKBest para escolha das variáves. "
   ]
  },
  {
   "cell_type": "markdown",
   "id": "e8670afa",
   "metadata": {},
   "source": [
    "# 0. Imports"
   ]
  },
  {
   "cell_type": "markdown",
   "id": "63ab2acd",
   "metadata": {},
   "source": [
    "!pip install xgboost"
   ]
  },
  {
   "cell_type": "code",
   "execution_count": 6,
   "id": "859f6472",
   "metadata": {},
   "outputs": [],
   "source": [
    "import pandas as pd\n",
    "\n",
    "import numpy as np\n",
    "\n",
    "import matplotlib.pyplot as plt\n",
    "\n",
    "from sklearn.model_selection import train_test_split\n",
    "from sklearn.preprocessing import StandardScaler, OrdinalEncoder, OneHotEncoder,LabelEncoder\n",
    "from sklearn.metrics import roc_auc_score\n",
    "from sklearn.ensemble import AdaBoostClassifier, RandomForestClassifier\n",
    "from sklearn.model_selection import GridSearchCV\n",
    "from sklearn.compose import ColumnTransformer\n",
    "from sklearn.pipeline import Pipeline\n",
    "from sklearn.impute import SimpleImputer\n",
    "\n",
    "import xgboost as xgb"
   ]
  },
  {
   "cell_type": "markdown",
   "id": "664a9bd6",
   "metadata": {},
   "source": [
    "### 1. Leitura dos dados"
   ]
  },
  {
   "cell_type": "code",
   "execution_count": 7,
   "id": "106bf276",
   "metadata": {},
   "outputs": [],
   "source": [
    "caminho = './projeto_ml2/'\n",
    "arquivo_principal = 'application_train.csv'\n",
    "arquivo_oculto = 'application_test_student.csv'\n",
    "arquivo_metadados = 'HomeCredit_columns_description.csv'\n",
    "\n",
    "df = pd.read_csv(f'{caminho}/{arquivo_principal}')\n",
    "df_oculto = pd.read_csv(f'{caminho}/{arquivo_oculto}')\n",
    "df_metadados = pd.read_csv(f'{caminho}/{arquivo_metadados}', encoding = 'Windows-1252')"
   ]
  },
  {
   "cell_type": "markdown",
   "id": "dd3e9157",
   "metadata": {},
   "source": [
    "### 2. Aplicação do melhor modelo"
   ]
  },
  {
   "cell_type": "markdown",
   "id": "1e113c48",
   "metadata": {},
   "source": [
    "2.1 Declaração de variáveis"
   ]
  },
  {
   "cell_type": "code",
   "execution_count": 17,
   "id": "84b85288",
   "metadata": {},
   "outputs": [],
   "source": [
    "var_resp = 'TARGET'\n",
    "\n",
    "var_string_binaria = ['CODE_GENDER','FLAG_OWN_REALTY','NAME_CONTRACT_TYPE','FLAG_OWN_CAR']\n",
    "var_string_nao_binaria = ['NAME_EDUCATION_TYPE','NAME_HOUSING_TYPE','NAME_INCOME_TYPE']\n",
    "var_string = var_string_binaria + var_string_nao_binaria\n",
    "\n",
    "var_num_discretas = ['CNT_CHILDREN','DEF_30_CNT_SOCIAL_CIRCLE','REGION_RATING_CLIENT']\n",
    "var_num_continuas = ['AMT_INCOME_TOTAL','DAYS_REGISTRATION','AMT_CREDIT','AMT_ANNUITY','AMT_GOODS_PRICE','DAYS_ID_PUBLISH','DAYS_LAST_PHONE_CHANGE','EXT_SOURCE_2','REGION_POPULATION_RELATIVE']\n",
    "var_num_flag = ['FLAG_EMP_PHONE','FLAG_WORK_PHONE','FLAG_DOCUMENT_3', 'FLAG_DOCUMENT_5', 'FLAG_DOCUMENT_6', 'FLAG_DOCUMENT_8', 'FLAG_DOCUMENT_16', 'FLAG_DOCUMENT_18'] \n",
    "var_num = var_num_discretas + var_num_continuas + var_num_flag\n",
    "var_num_sem_flag = var_num_discretas + var_num_continuas\n",
    "\n",
    "var_expl = var_num + var_string"
   ]
  },
  {
   "cell_type": "markdown",
   "id": "a0e66f77",
   "metadata": {},
   "source": [
    "### 3. Train x Test Split"
   ]
  },
  {
   "cell_type": "code",
   "execution_count": 18,
   "id": "77df1a03",
   "metadata": {},
   "outputs": [],
   "source": [
    "df_treino, df_teste = train_test_split(df, test_size = 0.3, random_state = 10)"
   ]
  },
  {
   "cell_type": "code",
   "execution_count": 19,
   "id": "a20d7c4d",
   "metadata": {},
   "outputs": [],
   "source": [
    "x_treino = df_treino[var_expl].copy()\n",
    "x_teste = df_teste[var_expl].copy()\n",
    "y_treino = df_treino[var_resp].copy()\n",
    "y_teste = df_teste[var_resp].copy()"
   ]
  },
  {
   "cell_type": "markdown",
   "id": "579d562c",
   "metadata": {},
   "source": [
    "### 4. Aplicação do melhor modelo com Pipelines"
   ]
  },
  {
   "cell_type": "markdown",
   "id": "55f0af42",
   "metadata": {},
   "source": [
    "4.1 Listas ordenadas"
   ]
  },
  {
   "cell_type": "code",
   "execution_count": 15,
   "id": "981c5d33",
   "metadata": {},
   "outputs": [],
   "source": [
    "lista_ordenada_NAME_EDUCATION_TYPE = [\n",
    "    \n",
    "    'Lower secondary',\n",
    "    'Secondary / secondary special', \n",
    "    'Incomplete higher',\n",
    "    'Higher education', \n",
    "    'Academic degree' \n",
    "]\n",
    "oe_NAME_EDUCATION_TYPE = OrdinalEncoder(categories = [lista_ordenada_NAME_EDUCATION_TYPE])\n",
    "\n",
    "lista_ordenada_NAME_HOUSING_TYPE = [\n",
    "    \n",
    "    'With parents',\n",
    "    'Municipal apartment',\n",
    "    'Co-op apartment',\n",
    "    'Rented apartment',\n",
    "    'Office apartment',\n",
    "    'House / apartment'\n",
    "]\n",
    "oe_NAME_HOUSING_TYPE = OrdinalEncoder(categories = [lista_ordenada_NAME_HOUSING_TYPE])\n",
    "\n",
    "lista_ordenada_NAME_INCOME_TYPE = [\n",
    "\n",
    "'Unemployed',\n",
    "'Student',\n",
    "'Maternity leave',\n",
    "'Pensioner',\n",
    "'Working',\n",
    "'Commercial associate',\n",
    "'Businessman',            \n",
    "'State servant'\n",
    "    \n",
    "]\n",
    "oe_NAME_INCOME_TYPE = OrdinalEncoder(categories = [lista_ordenada_NAME_INCOME_TYPE])"
   ]
  },
  {
   "cell_type": "markdown",
   "id": "8bdf19ba",
   "metadata": {},
   "source": [
    "4.2 Pipelines de pré-processamento e aplicação do modelo"
   ]
  },
  {
   "cell_type": "code",
   "execution_count": 37,
   "id": "478a06e8",
   "metadata": {},
   "outputs": [],
   "source": [
    "pipeline_imput_num = Pipeline(steps=[\n",
    "    ('imputer', SimpleImputer(strategy='median')),\n",
    "    ('std_scaler', StandardScaler())\n",
    "])\n",
    "\n",
    "pipeline_input_flg = Pipeline(steps=[\n",
    "    ('imputer', SimpleImputer(strategy='most_frequent')),\n",
    "    ('ohe', OneHotEncoder(drop='first',sparse=False))\n",
    "])\n",
    "\n",
    "pipeline_NAME_EDUCATION_TYPE = Pipeline(steps=[\n",
    "    ('NAME_EDUCATION_TYPE', oe_NAME_EDUCATION_TYPE)    \n",
    "])\n",
    "\n",
    "pipeline_NAME_HOUSING_TYPE = Pipeline(steps=[\n",
    "    ('NAME_HOUSING_TYPE', oe_NAME_HOUSING_TYPE)    \n",
    "])\n",
    "\n",
    "pipeline_NAME_INCOME_TYPE = Pipeline(steps=[\n",
    "    ('NAME_INCOME_TYPE', oe_NAME_INCOME_TYPE)    \n",
    "])\n",
    "\n",
    "pipeline_preproc = ColumnTransformer(transformers = [\n",
    "    ('numericas',            pipeline_imput_num,             var_num_sem_flag        ),\n",
    "    ('strings',              pipeline_input_flg,             var_string              ),\n",
    "    ('NAME_EDUCATION_TYPE',  pipeline_NAME_EDUCATION_TYPE,  ['NAME_EDUCATION_TYPE']  ),\n",
    "    ('NAME_HOUSING_TYPE',    pipeline_NAME_HOUSING_TYPE,    ['NAME_HOUSING_TYPE']    ),\n",
    "    ('NAME_INCOME_TYPE',     pipeline_NAME_INCOME_TYPE,     ['NAME_INCOME_TYPE']     )\n",
    "])\n",
    "\n",
    "melhor_modelo = xgb.XGBClassifier(    \n",
    "    max_depth = 5,\n",
    "    learning_rate = 0.2,\n",
    "    #lambda = 0.5,\n",
    "    n_jobs= 16,\n",
    "    random_state = 1    \n",
    ")\n",
    "\n",
    "pipeline_final =  Pipeline(steps=[('preproc_modelo', pipeline_preproc) , ('melhor_modelo', melhor_modelo)])"
   ]
  },
  {
   "cell_type": "markdown",
   "id": "ccd3a8bf",
   "metadata": {},
   "source": [
    "4.3 Ajuste do melhor modelo com pipelines (FIT)"
   ]
  },
  {
   "cell_type": "code",
   "execution_count": 38,
   "id": "3c49e9fe",
   "metadata": {},
   "outputs": [
    {
     "data": {
      "text/plain": [
       "(0.7734857175889174, 0.7111350811483095)"
      ]
     },
     "execution_count": 38,
     "metadata": {},
     "output_type": "execute_result"
    }
   ],
   "source": [
    "pipeline_final.fit(x_treino,y_treino)\n",
    "\n",
    "y_pred_treino = pipeline_final.predict_proba(x_treino)[:, 1]\n",
    "y_pred_teste = pipeline_final.predict_proba(x_teste)[:, 1]\n",
    "\n",
    "roc_auc_score(y_treino, y_pred_treino) , roc_auc_score(y_teste, y_pred_teste)"
   ]
  },
  {
   "cell_type": "markdown",
   "id": "d6bb6aa5",
   "metadata": {},
   "source": [
    "### 5. PREDICT"
   ]
  },
  {
   "cell_type": "markdown",
   "id": "99ad02ae",
   "metadata": {},
   "source": [
    "5.1 Adaptando os dados de aplicação (df_oculto)"
   ]
  },
  {
   "cell_type": "code",
   "execution_count": 27,
   "id": "85d25a2b",
   "metadata": {},
   "outputs": [],
   "source": [
    "df_oculto = df_oculto[(df_oculto['CODE_GENDER'] != 'XNA') | (df_oculto['NAME_FAMILY_STATUS'] != 'Unknown')]"
   ]
  },
  {
   "cell_type": "markdown",
   "id": "24e43c3f",
   "metadata": {},
   "source": [
    "5.2 - Aplicação do melhor modelo e Export dos resultados para arquivo csv"
   ]
  },
  {
   "cell_type": "code",
   "execution_count": 40,
   "id": "a27f37d7",
   "metadata": {},
   "outputs": [
    {
     "data": {
      "text/html": [
       "<div>\n",
       "<style scoped>\n",
       "    .dataframe tbody tr th:only-of-type {\n",
       "        vertical-align: middle;\n",
       "    }\n",
       "\n",
       "    .dataframe tbody tr th {\n",
       "        vertical-align: top;\n",
       "    }\n",
       "\n",
       "    .dataframe thead th {\n",
       "        text-align: right;\n",
       "    }\n",
       "</style>\n",
       "<table border=\"1\" class=\"dataframe\">\n",
       "  <thead>\n",
       "    <tr style=\"text-align: right;\">\n",
       "      <th></th>\n",
       "      <th>SK_ID_CURR</th>\n",
       "      <th>Y_PRED</th>\n",
       "    </tr>\n",
       "  </thead>\n",
       "  <tbody>\n",
       "    <tr>\n",
       "      <th>0</th>\n",
       "      <td>149741</td>\n",
       "      <td>0.104982</td>\n",
       "    </tr>\n",
       "    <tr>\n",
       "      <th>1</th>\n",
       "      <td>363290</td>\n",
       "      <td>0.085853</td>\n",
       "    </tr>\n",
       "    <tr>\n",
       "      <th>2</th>\n",
       "      <td>436006</td>\n",
       "      <td>0.030565</td>\n",
       "    </tr>\n",
       "    <tr>\n",
       "      <th>3</th>\n",
       "      <td>377703</td>\n",
       "      <td>0.038150</td>\n",
       "    </tr>\n",
       "    <tr>\n",
       "      <th>4</th>\n",
       "      <td>188624</td>\n",
       "      <td>0.303696</td>\n",
       "    </tr>\n",
       "  </tbody>\n",
       "</table>\n",
       "</div>"
      ],
      "text/plain": [
       "   SK_ID_CURR    Y_PRED\n",
       "0      149741  0.104982\n",
       "1      363290  0.085853\n",
       "2      436006  0.030565\n",
       "3      377703  0.038150\n",
       "4      188624  0.303696"
      ]
     },
     "execution_count": 40,
     "metadata": {},
     "output_type": "execute_result"
    }
   ],
   "source": [
    "df_oculto['Y_PRED'] = pipeline_final.predict_proba(df_oculto)[:, 1]\n",
    "df_oculto[['SK_ID_CURR','Y_PRED']].to_csv('previsao_credito_equipe4_MLII.csv', index=False)\n",
    "df_oculto[['SK_ID_CURR','Y_PRED']].head()"
   ]
  }
 ],
 "metadata": {
  "kernelspec": {
   "display_name": "Python 3 (ipykernel)",
   "language": "python",
   "name": "python3"
  },
  "language_info": {
   "codemirror_mode": {
    "name": "ipython",
    "version": 3
   },
   "file_extension": ".py",
   "mimetype": "text/x-python",
   "name": "python",
   "nbconvert_exporter": "python",
   "pygments_lexer": "ipython3",
   "version": "3.9.12"
  }
 },
 "nbformat": 4,
 "nbformat_minor": 5
}
